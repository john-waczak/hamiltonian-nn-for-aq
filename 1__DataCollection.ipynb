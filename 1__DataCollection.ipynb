{
 "cells": [
  {
   "cell_type": "code",
   "execution_count": 1,
   "id": "ad46d5c6-2c4d-43c7-b039-41b849b311ed",
   "metadata": {},
   "outputs": [],
   "source": [
    "using Pkg "
   ]
  },
  {
   "cell_type": "code",
   "execution_count": 17,
   "id": "fbe02945-a734-4b1f-8ab2-a7bdedf640cb",
   "metadata": {},
   "outputs": [
    {
     "name": "stderr",
     "output_type": "stream",
     "text": [
      "\u001b[32m\u001b[1m   Resolving\u001b[22m\u001b[39m package versions...\n",
      "\u001b[32m\u001b[1m   Installed\u001b[22m\u001b[39m PythonCall ─ v0.9.13\n",
      "\u001b[32m\u001b[1m    Updating\u001b[22m\u001b[39m `~/gitrepos/utd/hamiltonian-nn-for-aq/Project.toml`\n",
      "  \u001b[90m[992eb4ea] \u001b[39m\u001b[92m+ CondaPkg v0.2.18\u001b[39m\n",
      "  \u001b[90m[6099a3de] \u001b[39m\u001b[92m+ PythonCall v0.9.13\u001b[39m\n",
      "\u001b[32m\u001b[1m    Updating\u001b[22m\u001b[39m `~/gitrepos/utd/hamiltonian-nn-for-aq/Manifest.toml`\n",
      "  \u001b[90m[992eb4ea] \u001b[39m\u001b[92m+ CondaPkg v0.2.18\u001b[39m\n",
      "  \u001b[90m[0f8b85d8] \u001b[39m\u001b[92m+ JSON3 v1.12.0\u001b[39m\n",
      "  \u001b[90m[0b3b1443] \u001b[39m\u001b[92m+ MicroMamba v0.1.12\u001b[39m\n",
      "  \u001b[90m[fa939f87] \u001b[39m\u001b[92m+ Pidfile v1.3.0\u001b[39m\n",
      "  \u001b[90m[6099a3de] \u001b[39m\u001b[92m+ PythonCall v0.9.13\u001b[39m\n",
      "  \u001b[90m[66db9d55] \u001b[39m\u001b[92m+ SnoopPrecompile v1.0.3\u001b[39m\n",
      "  \u001b[90m[856f2bd8] \u001b[39m\u001b[92m+ StructTypes v1.10.0\u001b[39m\n",
      "  \u001b[90m[e17b2a0c] \u001b[39m\u001b[92m+ UnsafePointers v1.0.0\u001b[39m\n",
      "  \u001b[90m[f8abcde7] \u001b[39m\u001b[92m+ micromamba_jll v1.4.1+0\u001b[39m\n",
      "\u001b[32m\u001b[1mPrecompiling\u001b[22m\u001b[39m project...\n",
      "\u001b[32m  ✓ \u001b[39m\u001b[90mUnsafePointers\u001b[39m\n",
      "\u001b[32m  ✓ \u001b[39m\u001b[90mPidfile\u001b[39m\n",
      "\u001b[32m  ✓ \u001b[39m\u001b[90mmicromamba_jll\u001b[39m\n",
      "\u001b[32m  ✓ \u001b[39m\u001b[90mStructTypes\u001b[39m\n",
      "\u001b[32m  ✓ \u001b[39m\u001b[90mMicroMamba\u001b[39m\n",
      "\u001b[32m  ✓ \u001b[39m\u001b[90mJSON3\u001b[39m\n",
      "\u001b[32m  ✓ \u001b[39mCondaPkg\n",
      "\u001b[32m  ✓ \u001b[39mPythonCall\n",
      "  8 dependencies successfully precompiled in 14 seconds. 192 already precompiled.\n"
     ]
    }
   ],
   "source": [
    "Pkg.add([\"StableRNGs\", \"Plots\", \"StatsPlots\", \"YAML\", \"CondaPkg\", \"PythonCall\"])"
   ]
  },
  {
   "cell_type": "markdown",
   "id": "63d62deb-c4fd-4b4b-834f-311603f134e6",
   "metadata": {},
   "source": [
    "# Package Imports"
   ]
  },
  {
   "cell_type": "code",
   "execution_count": 18,
   "id": "0ef0410e-f149-4586-ade2-5065751e7f62",
   "metadata": {},
   "outputs": [],
   "source": [
    "using StableRNGs\n",
    "using Plots, StatsPlots\n",
    "using YAML"
   ]
  },
  {
   "cell_type": "markdown",
   "id": "1e7e952d-c3f3-43b2-ba7d-981ecb2cf70a",
   "metadata": {},
   "source": [
    "for reproducibility, use the `StableRNGs` package. We seed with $42$ because it's the best number... *obviously*."
   ]
  },
  {
   "cell_type": "code",
   "execution_count": 8,
   "id": "5b7eb2c4-4542-4c04-a03d-1e5c0a181abe",
   "metadata": {},
   "outputs": [
    {
     "data": {
      "text/plain": [
       "StableRNGs.LehmerRNG(state=0x00000000000000000000000000000055)"
      ]
     },
     "execution_count": 8,
     "metadata": {},
     "output_type": "execute_result"
    }
   ],
   "source": [
    "rng = StableRNG(42)\n",
    "# A = randn(rng, 10, 10) # instead of randn(10, 10)"
   ]
  },
  {
   "cell_type": "markdown",
   "id": "b6af71c3-db6a-4739-b041-c461f4a73a47",
   "metadata": {},
   "source": [
    "load in the `.credentials.yml` file"
   ]
  },
  {
   "cell_type": "code",
   "execution_count": 27,
   "id": "8782cca0-0e93-40ae-9db0-54e6b42b5e87",
   "metadata": {},
   "outputs": [
    {
     "data": {
      "text/plain": [
       "Dict{Any, Any} with 3 entries:\n",
       "  \"influx_token\"  => \"teamlarytoken\"\n",
       "  \"influx_bucket\" => \"SharedAirDFW\"\n",
       "  \"influx_org\"    => \"MINTS\""
      ]
     },
     "execution_count": 27,
     "metadata": {},
     "output_type": "execute_result"
    }
   ],
   "source": [
    "credentials = YAML.load_file(\".credentials.yml\")"
   ]
  },
  {
   "cell_type": "markdown",
   "id": "3570eaab-b25a-440c-9a60-f970187ebc90",
   "metadata": {},
   "source": [
    "Now let's set up our python environment in order to interface with the InfluxDB client as it's more stable and mature. We will do so in a reproducible way using `CondaPkg.jl` and `PythonCall.jl` to make easiily managed python environments via toml files (like our `Project.toml` and `Manifest.toml`) "
   ]
  },
  {
   "cell_type": "code",
   "execution_count": 19,
   "id": "b45b2386-6465-477e-915d-906fe9c7d0ea",
   "metadata": {},
   "outputs": [],
   "source": [
    "using CondaPkg"
   ]
  },
  {
   "cell_type": "code",
   "execution_count": 23,
   "id": "cd02eb4c-adf8-4f85-9592-cc7b818ad5b1",
   "metadata": {},
   "outputs": [
    {
     "name": "stderr",
     "output_type": "stream",
     "text": [
      "\u001b[32m\u001b[1m    CondaPkg \u001b[22m\u001b[39m\u001b[0mFound dependencies: /Users/jwaczak/gitrepos/utd/hamiltonian-nn-for-aq/CondaPkg.toml\n",
      "\u001b[32m\u001b[1m    CondaPkg \u001b[22m\u001b[39m\u001b[0mFound dependencies: /Users/jwaczak/.julia/packages/PythonCall/1f5yE/CondaPkg.toml\n",
      "\u001b[32m\u001b[1m    CondaPkg \u001b[22m\u001b[39m\u001b[0mDependencies already up to date\n"
     ]
    }
   ],
   "source": [
    "CondaPkg.add(\"influxdb-client\")"
   ]
  },
  {
   "cell_type": "code",
   "execution_count": 24,
   "id": "f10c86e0-afd8-4d3a-a407-32bcd1737b5f",
   "metadata": {},
   "outputs": [
    {
     "name": "stderr",
     "output_type": "stream",
     "text": [
      "\u001b[92mCondaPkg Status\u001b[39m\u001b[0m\u001b[1m /Users/jwaczak/gitrepos/utd/hamiltonian-nn-for-aq/CondaPkg.toml\u001b[22m\n",
      "\u001b[36m\u001b[1mEnvironment\u001b[22m\u001b[39m\n",
      "  /Users/jwaczak/gitrepos/utd/hamiltonian-nn-for-aq/.CondaPkg/env\n",
      "\u001b[36m\u001b[1mPackages\u001b[22m\u001b[39m\n",
      "  influxdb-client v1.36.1\n"
     ]
    }
   ],
   "source": [
    "CondaPkg.status()"
   ]
  },
  {
   "cell_type": "code",
   "execution_count": 22,
   "id": "72ccaab5-e4a0-4294-aefc-68d9d9397ba8",
   "metadata": {},
   "outputs": [],
   "source": [
    "using PythonCall "
   ]
  },
  {
   "cell_type": "code",
   "execution_count": 25,
   "id": "f3320293-6cac-4b84-a412-5ff7bf60e817",
   "metadata": {},
   "outputs": [
    {
     "data": {
      "text/plain": [
       "Python: <module 'influxdb_client' from '/Users/jwaczak/gitrepos/utd/hamiltonian-nn-for-aq/.CondaPkg/env/lib/python3.11/site-packages/influxdb_client/__init__.py'>"
      ]
     },
     "execution_count": 25,
     "metadata": {},
     "output_type": "execute_result"
    }
   ],
   "source": [
    "influxdb_client = pyimport(\"influxdb_client\")"
   ]
  },
  {
   "cell_type": "code",
   "execution_count": 44,
   "id": "98c8bb72-d4c8-465b-ac43-fecc244074ff",
   "metadata": {},
   "outputs": [
    {
     "data": {
      "text/plain": [
       "Python: <influxdb_client.client.influxdb_client.InfluxDBClient object at 0x29356f290>"
      ]
     },
     "execution_count": 44,
     "metadata": {},
     "output_type": "execute_result"
    }
   ],
   "source": [
    "bucket = credentials[\"influx_bucket\"]\n",
    "org = credentials[\"influx_org\"]\n",
    "token = credentials[\"influx_token\"]\n",
    "url=\"mdash.circ.utdallas.edu:8086\"\n",
    "\n",
    "\n",
    "client = influxdb_client.InfluxDBClient(\n",
    "    url=url,\n",
    "    org=org,\n",
    "    token=token,\n",
    ")"
   ]
  },
  {
   "cell_type": "markdown",
   "id": "2b5a3647-e62a-441c-8250-c55cae3972dc",
   "metadata": {},
   "source": [
    "perform a sample query to make sure this is working"
   ]
  },
  {
   "cell_type": "code",
   "execution_count": 45,
   "id": "32c4a279-d629-4fc3-b56f-de3a6fdf556e",
   "metadata": {},
   "outputs": [
    {
     "data": {
      "text/plain": [
       "Python: <influxdb_client.client.query_api.QueryApi object at 0x293574650>"
      ]
     },
     "execution_count": 45,
     "metadata": {},
     "output_type": "execute_result"
    }
   ],
   "source": [
    "query_api = client.query_api()"
   ]
  },
  {
   "cell_type": "code",
   "execution_count": 46,
   "id": "b3d6b351-c3b1-4c8e-8a4d-c2b15777af0b",
   "metadata": {},
   "outputs": [
    {
     "name": "stdout",
     "output_type": "stream",
     "text": [
      "import \"influxdata/influxdb/schema\"\n",
      "\n",
      "schema.tagValues(bucket: \"SharedAirDFW\", tag: \"device_name\")\n",
      "\n"
     ]
    }
   ],
   "source": [
    "query = \"\"\"\n",
    "import \\\"influxdata/influxdb/schema\\\"\n",
    "\n",
    "schema.tagValues(bucket: \\\"$bucket\\\", tag: \\\"device_name\\\")\n",
    "\"\"\"\n",
    "\n",
    "println(query)"
   ]
  },
  {
   "cell_type": "code",
   "execution_count": 62,
   "id": "2b1ad63f-3f7a-426a-b31f-d7743199af54",
   "metadata": {},
   "outputs": [
    {
     "name": "stdout",
     "output_type": "stream",
     "text": [
      "Active Pure Node\n",
      "Central Hub 10\n",
      "Central Hub 4\n",
      "Central Hub 5\n",
      "Central Hub 6\n",
      "Central Hub 7\n",
      "Central Hub 8\n",
      "Central Hub 9\n",
      "LoRa Node 006\n",
      "LoRa Node 008\n",
      "LoRa Node 014\n",
      "LoRa Node 022\n",
      "LoRa Node 024\n",
      "LoRa Node 028\n",
      "LoRa Node 037\n",
      "LoRa Node 039\n",
      "LoRa Node 040\n",
      "LoRa Node 041\n",
      "LoRa Node 052\n",
      "LoRa Node 054\n",
      "LoRa Node 058\n",
      "LoRa Node 063\n",
      "LoRa Node 068\n",
      "LoRa Node 069\n",
      "LoRa Node 070\n",
      "LoRa Node 071\n",
      "LoRa Node 074\n",
      "LoRa Node 076\n",
      "LoRa Node 081\n",
      "LoRa Node 085\n",
      "LoRa Node 086\n",
      "LoRa Node 088\n",
      "LoRa Node 089\n",
      "LoRa Node 090\n",
      "LoRa Node 093\n",
      "LoRa Node 094\n",
      "LoRa Node 097\n",
      "LoRa Node 099\n",
      "LoRa Node 101\n",
      "LoRa Node 102\n",
      "LoRa Node 105\n",
      "LoRa Node 107\n",
      "LoRa Node 109\n",
      "LoRa Node 111\n",
      "Mints Wearable Node 02\n",
      "Mints Wearable Node V5 06\n",
      "PoLo Node 01\n",
      "PoLo Node 03\n",
      "PoLo Node 13\n",
      "PoLo Node 16\n",
      "PoLo Node 17\n",
      "PoLo Node 18\n",
      "PoLo Node 19\n",
      "PoLo Node 20\n",
      "PoLo Node 21\n",
      "UTD Node 1\n",
      "UTD Node 13\n",
      "UTD Node 14\n",
      "UTD Node 15\n",
      "UTD Node 19\n",
      "UTD Node 20\n",
      "UTD Node 4\n",
      "UTD Node 5\n",
      "UTD Node 7\n",
      "WSTC Test Node 01\n"
     ]
    }
   ],
   "source": [
    "result = query_api.query(org=org, query=query)\n",
    "table = result[0]\n",
    "for record ∈ table\n",
    "    println(record.get_value())\n",
    "end\n",
    "\n",
    "\n",
    "# see this example: https://docs.influxdata.com/influxdb/cloud/api-guide/client-libraries/python/"
   ]
  },
  {
   "cell_type": "code",
   "execution_count": null,
   "id": "ba7e860b-ddd3-4db5-bbe2-4bbddfaea982",
   "metadata": {},
   "outputs": [],
   "source": []
  }
 ],
 "metadata": {
  "kernelspec": {
   "display_name": "Julia 1.9.0",
   "language": "julia",
   "name": "julia-1.9"
  },
  "language_info": {
   "file_extension": ".jl",
   "mimetype": "application/julia",
   "name": "julia",
   "version": "1.9.0"
  }
 },
 "nbformat": 4,
 "nbformat_minor": 5
}
